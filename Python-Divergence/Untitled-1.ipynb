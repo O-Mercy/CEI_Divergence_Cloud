{
 "cells": [
  {
   "cell_type": "markdown",
   "metadata": {},
   "source": [
    "## Python Virtual Environment"
   ]
  },
  {
   "cell_type": "markdown",
   "metadata": {},
   "source": [
    "Create a new Virtual Environment:\n",
    "> python -m venv .venv\n",
    "Activate the virtual environment:\n",
    "- Windows:\n",
    "`.venv\\Scripts\\activate.bat`\n",
    "- Mac/Linux:\n",
    "`source .venv/bin/activate`\n",
    "Confirm in Command Prompt that prefix `(venv)` is visible\n",
    "Deactivate:\n",
    "> deactivate\n",
    "-m flag makes sure that you are using the pip that's tied to the active Python executable.\n",
    "It's good practice to always use -m, even if you have just one global version of Python installed from which you create virtual environments."
   ]
  },
  {
   "cell_type": "markdown",
   "metadata": {},
   "source": [
    "Deactivate:\n",
    "> deactivate\n",
    "-m flag makes sure that you are using the pip that's tied to the active Python executable.\n",
    "It's good practice to always use -m, even if you have just one global version of Python installed from which you create virtual environments."
   ]
  }
 ],
 "metadata": {
  "kernelspec": {
   "display_name": "Python 3",
   "language": "python",
   "name": "python3"
  },
  "language_info": {
   "codemirror_mode": {
    "name": "ipython",
    "version": 3
   },
   "file_extension": ".py",
   "mimetype": "text/x-python",
   "name": "python",
   "nbconvert_exporter": "python",
   "pygments_lexer": "ipython3",
   "version": "3.9.6"
  }
 },
 "nbformat": 4,
 "nbformat_minor": 2
}
